{
  "nbformat": 4,
  "nbformat_minor": 0,
  "metadata": {
    "colab": {
      "name": "Classification.ipynb",
      "provenance": [],
      "mount_file_id": "1YEvtRe5Awg_YnYgZvwJ6y61PZSGY_jHR",
      "authorship_tag": "ABX9TyM79Gp6y8B9KTi37u+LbYSl",
      "include_colab_link": true
    },
    "kernelspec": {
      "name": "python3",
      "display_name": "Python 3"
    }
  },
  "cells": [
    {
      "cell_type": "markdown",
      "metadata": {
        "id": "view-in-github",
        "colab_type": "text"
      },
      "source": [
        "<a href=\"https://colab.research.google.com/github/emzola/machinelearning/blob/master/Classification.ipynb\" target=\"_parent\"><img src=\"https://colab.research.google.com/assets/colab-badge.svg\" alt=\"Open In Colab\"/></a>"
      ]
    },
    {
      "cell_type": "markdown",
      "metadata": {
        "id": "AxAXhPoY05Rq",
        "colab_type": "text"
      },
      "source": [
        "# **Classification Problem using Neural Networks and Finger Digits 05 Dataset**"
      ]
    },
    {
      "cell_type": "markdown",
      "metadata": {
        "id": "ufe1msqKNfqu",
        "colab_type": "text"
      },
      "source": [
        "# Import necessary libraries\n",
        "import necessary libraries and dependencies"
      ]
    },
    {
      "cell_type": "code",
      "metadata": {
        "id": "677XH-2GS0dF",
        "colab_type": "code",
        "colab": {
          "base_uri": "https://localhost:8080/",
          "height": 35
        },
        "outputId": "a08d6498-15b1-43f0-a451-d898ce62989c"
      },
      "source": [
        "import tensorflow as tf\n",
        "tf.test.gpu_device_name()\n",
        "from tensorflow import keras\n",
        "from tensorflow.keras.optimizers import RMSprop\n",
        "import zipfile\n",
        "import os\n",
        "import cv2\n",
        "import numpy as np\n",
        "import matplotlib.pyplot as plt\n",
        "%matplotlib inline \n",
        "\n",
        "print(tf.__version__)"
      ],
      "execution_count": 2,
      "outputs": [
        {
          "output_type": "stream",
          "text": [
            "2.2.0-rc3\n"
          ],
          "name": "stdout"
        }
      ]
    },
    {
      "cell_type": "markdown",
      "metadata": {
        "id": "CMGngzIhtkph",
        "colab_type": "text"
      },
      "source": [
        "## Load data\n",
        "\n",
        "Load and extract zipped dataset (Fingers-digits-05 dataset)"
      ]
    },
    {
      "cell_type": "code",
      "metadata": {
        "id": "ARu4Ne46mUno",
        "colab_type": "code",
        "colab": {}
      },
      "source": [
        "zipdir = \"/content/drive/My Drive/datasets/training_images.zip\"\n",
        "\n",
        "with zipfile.ZipFile(zipdir, 'r') as myzip:\n",
        "  myzip.extractall()"
      ],
      "execution_count": 0,
      "outputs": []
    },
    {
      "cell_type": "markdown",
      "metadata": {
        "id": "9JfutNfCNoIX",
        "colab_type": "text"
      },
      "source": [
        "Load image and extract label from dataset"
      ]
    },
    {
      "cell_type": "code",
      "metadata": {
        "id": "dfZIiOBEZufk",
        "colab_type": "code",
        "colab": {}
      },
      "source": [
        "def load_image(file_path):\n",
        "    return cv2.imread(file_path)\n",
        "\n",
        "def extract_label(file_name):\n",
        "    return 1 if \"One\" in file_name else 2 if \"Two\" in file_name else 3 if \"Three\" in file_name else 4 if \"Four\" in file_name else 5 if \"Five\" in file_name else 0\n",
        "\n",
        "train_path = \"./training_images/\"\n",
        "image_files = os.listdir(train_path)\n",
        "train_images = [load_image(train_path + file) for file in image_files]\n",
        "train_labels = [extract_label(file) for file in image_files]"
      ],
      "execution_count": 0,
      "outputs": []
    },
    {
      "cell_type": "code",
      "metadata": {
        "id": "AWGf3UPvo3c8",
        "colab_type": "code",
        "colab": {}
      },
      "source": [
        "def preprocess_image(img, side=128):\n",
        "    min_side = min(img.shape[0], img.shape[1])\n",
        "    img = img[:min_side, :min_side]\n",
        "    img = cv2.resize(img, (side,side))\n",
        "    img = cv2.cvtColor(img, cv2.COLOR_BGR2GRAY)\n",
        "    return img / 255.0"
      ],
      "execution_count": 0,
      "outputs": []
    },
    {
      "cell_type": "code",
      "metadata": {
        "id": "h7SvfLfao9Wy",
        "colab_type": "code",
        "colab": {
          "base_uri": "https://localhost:8080/",
          "height": 221
        },
        "outputId": "6f45e747-8508-480d-ccc3-e4f3f2793de7"
      },
      "source": [
        "preview_index = 1002\n",
        "plt.subplot(1,2,1)\n",
        "plt.imshow(train_images[preview_index])\n",
        "plt.subplot(1,2,2)\n",
        "plt.imshow(preprocess_image(train_images[preview_index]), cmap=\"gray\")"
      ],
      "execution_count": 6,
      "outputs": [
        {
          "output_type": "execute_result",
          "data": {
            "text/plain": [
              "<matplotlib.image.AxesImage at 0x7ff57c8279b0>"
            ]
          },
          "metadata": {
            "tags": []
          },
          "execution_count": 6
        },
        {
          "output_type": "display_data",
          "data": {
            "image/png": "[encoded data removed]",
            "text/plain": [
              "<Figure size 432x288 with 2 Axes>"
            ]
          },
          "metadata": {
            "tags": [],
            "needs_background": "light"
          }
        }
      ]
    },
    {
      "cell_type": "code",
      "metadata": {
        "id": "6OIEEXM7pL0q",
        "colab_type": "code",
        "colab": {}
      },
      "source": [
        "for i in range(len(train_images)):\n",
        "    train_images[i] = preprocess_image(train_images[i])"
      ],
      "execution_count": 0,
      "outputs": []
    },
    {
      "cell_type": "code",
      "metadata": {
        "id": "2FjFxYsqpNTU",
        "colab_type": "code",
        "colab": {
          "base_uri": "https://localhost:8080/",
          "height": 35
        },
        "outputId": "5cc491b0-7c34-438a-b2bb-ec4435432d51"
      },
      "source": [
        "train_images = np.expand_dims(train_images, axis=-1)\n",
        "train_labels = np.array(train_labels)\n",
        "print(train_images.shape, train_labels.shape)"
      ],
      "execution_count": 8,
      "outputs": [
        {
          "output_type": "stream",
          "text": [
            "(12006, 128, 128, 1) (12006,)\n"
          ],
          "name": "stdout"
        }
      ]
    },
    {
      "cell_type": "code",
      "metadata": {
        "id": "QUImktrypRFK",
        "colab_type": "code",
        "colab": {}
      },
      "source": [
        "X = train_images\n",
        "y = train_labels"
      ],
      "execution_count": 0,
      "outputs": []
    },
    {
      "cell_type": "code",
      "metadata": {
        "id": "d2RDub_UpU99",
        "colab_type": "code",
        "colab": {
          "base_uri": "https://localhost:8080/",
          "height": 35
        },
        "outputId": "5319e84d-4596-4513-f61f-4bfb31386127"
      },
      "source": [
        "np.shape(X)"
      ],
      "execution_count": 10,
      "outputs": [
        {
          "output_type": "execute_result",
          "data": {
            "text/plain": [
              "(12006, 128, 128, 1)"
            ]
          },
          "metadata": {
            "tags": []
          },
          "execution_count": 10
        }
      ]
    },
    {
      "cell_type": "markdown",
      "metadata": {
        "id": "7nF2nqvutkp2",
        "colab_type": "text"
      },
      "source": [
        "## Draw some images\n",
        "\n",
        "Each image is of 128x128 pixels. First, construct a matrix from the vector."
      ]
    },
    {
      "cell_type": "code",
      "metadata": {
        "id": "0quwBQrCpzud",
        "colab_type": "code",
        "colab": {}
      },
      "source": [
        "def draw_digit(Img, digit_true, digit_pred = ''):\n",
        "    plt.xticks([])\n",
        "    plt.yticks([])\n",
        "    plt.imshow(np.reshape(Img, (128, 128)), interpolation = 'nearest')\n",
        "    plt.text(0, 7, str(digit_true), color = 'b')\n",
        "    plt.text(0, 1, str(digit_pred), color = 'r')\n",
        "    plt.set_cmap('binary')    "
      ],
      "execution_count": 0,
      "outputs": []
    },
    {
      "cell_type": "markdown",
      "metadata": {
        "id": "yKvQqnzmvg9Z",
        "colab_type": "text"
      },
      "source": [
        "Draw first 60 images:"
      ]
    },
    {
      "cell_type": "code",
      "metadata": {
        "id": "gR12Ah5AqMFD",
        "colab_type": "code",
        "colab": {
          "base_uri": "https://localhost:8080/",
          "height": 528
        },
        "outputId": "c86683d2-a670-4738-967a-1663b60274df"
      },
      "source": [
        "plt.figure(figsize = (16, 9))\n",
        "for i_subplot in range(60):\n",
        "    plt.subplot(6, 10, i_subplot + 1)\n",
        "    draw_digit(X[i_subplot, :], y[i_subplot])"
      ],
      "execution_count": 12,
      "outputs": [
        {
          "output_type": "display_data",
          "data": {
            "image/png": "[encoded data removed]",
            "text/plain": [
              "<Figure size 1152x648 with 60 Axes>"
            ]
          },
          "metadata": {
            "tags": []
          }
        }
      ]
    },
    {
      "cell_type": "markdown",
      "metadata": {
        "id": "XIFGV-a5wCoN",
        "colab_type": "text"
      },
      "source": [
        "# Break the data into train and test sets\n",
        "For this we'll use train_test_split. 33% - for the test set, 67% - for the train set."
      ]
    },
    {
      "cell_type": "code",
      "metadata": {
        "id": "B6QYwzf1qpgg",
        "colab_type": "code",
        "colab": {}
      },
      "source": [
        "from sklearn.model_selection import train_test_split\n",
        "X_train, X_test, y_train, y_test = train_test_split(X, y, test_size = 0.33, random_state = 42)"
      ],
      "execution_count": 0,
      "outputs": []
    },
    {
      "cell_type": "markdown",
      "metadata": {
        "id": "8qJlOggYwKAo",
        "colab_type": "text"
      },
      "source": [
        "The size of the test and the train sets:"
      ]
    },
    {
      "cell_type": "code",
      "metadata": {
        "id": "-kCtsSOcqxPX",
        "colab_type": "code",
        "colab": {
          "base_uri": "https://localhost:8080/",
          "height": 35
        },
        "outputId": "7c986df3-3a00-4526-cf42-e15061cc61f4"
      },
      "source": [
        "N_train = X_train.shape\n",
        "N_test = X_test.shape\n",
        "print(N_train, N_test)"
      ],
      "execution_count": 14,
      "outputs": [
        {
          "output_type": "stream",
          "text": [
            "(8044, 128, 128, 1) (3962, 128, 128, 1)\n"
          ],
          "name": "stdout"
        }
      ]
    },
    {
      "cell_type": "markdown",
      "metadata": {
        "id": "kUZD5TjKtkqN",
        "colab_type": "text"
      },
      "source": [
        "## Train the model\n",
        "\n",
        "We'll train a simple neural network - multilayer perceptron (MLP)"
      ]
    },
    {
      "cell_type": "code",
      "metadata": {
        "id": "QIt6POphq-Gw",
        "colab_type": "code",
        "colab": {}
      },
      "source": [
        "from sklearn.neural_network import MLPClassifier"
      ],
      "execution_count": 0,
      "outputs": []
    },
    {
      "cell_type": "markdown",
      "metadata": {
        "id": "ZzTsZn8K0SXG",
        "colab_type": "text"
      },
      "source": [
        "First, we define the (hiper) parameters of the Neural Network (in particular, the number of neurons is 100)"
      ]
    },
    {
      "cell_type": "code",
      "metadata": {
        "id": "CdtQR5XLrBZq",
        "colab_type": "code",
        "colab": {}
      },
      "source": [
        "mlp_model = MLPClassifier(hidden_layer_sizes = (100,), solver = 'lbfgs', \n",
        "                          activation = 'logistic', random_state = 42)"
      ],
      "execution_count": 0,
      "outputs": []
    },
    {
      "cell_type": "markdown",
      "metadata": {
        "id": "ZbxHmUp90iaC",
        "colab_type": "text"
      },
      "source": [
        "Train the model:"
      ]
    },
    {
      "cell_type": "code",
      "metadata": {
        "id": "zqgAQABArEOT",
        "colab_type": "code",
        "colab": {}
      },
      "source": [
        "X_train = X_train.reshape(8044,1*128*128)\n",
        "X_test = X_test.reshape(3962,1*128*128)"
      ],
      "execution_count": 0,
      "outputs": []
    },
    {
      "cell_type": "code",
      "metadata": {
        "id": "qC6B5vtkrRTX",
        "colab_type": "code",
        "colab": {
          "base_uri": "https://localhost:8080/",
          "height": 161
        },
        "outputId": "842d1298-b861-4901-ffc5-ede1e16b641e"
      },
      "source": [
        "mlp_model.fit(X_train, y_train)"
      ],
      "execution_count": 18,
      "outputs": [
        {
          "output_type": "execute_result",
          "data": {
            "text/plain": [
              "MLPClassifier(activation='logistic', alpha=0.0001, batch_size='auto',\n",
              "              beta_1=0.9, beta_2=0.999, early_stopping=False, epsilon=1e-08,\n",
              "              hidden_layer_sizes=(100,), learning_rate='constant',\n",
              "              learning_rate_init=0.001, max_fun=15000, max_iter=200,\n",
              "              momentum=0.9, n_iter_no_change=10, nesterovs_momentum=True,\n",
              "              power_t=0.5, random_state=42, shuffle=True, solver='lbfgs',\n",
              "              tol=0.0001, validation_fraction=0.1, verbose=False,\n",
              "              warm_start=False)"
            ]
          },
          "metadata": {
            "tags": []
          },
          "execution_count": 18
        }
      ]
    },
    {
      "cell_type": "markdown",
      "metadata": {
        "id": "Ar3SWZmMtkqh",
        "colab_type": "text"
      },
      "source": [
        "## Now we can classify:\n",
        "\n",
        "For example, let's take the 42th image"
      ]
    },
    {
      "cell_type": "code",
      "metadata": {
        "id": "kCGVypIQraiY",
        "colab_type": "code",
        "colab": {
          "base_uri": "https://localhost:8080/",
          "height": 252
        },
        "outputId": "46e24609-7b0b-4fed-8167-6068b7cb0e09"
      },
      "source": [
        "i = 16\n",
        "Img = X_test[i, :]\n",
        "dig = y_test[i]\n",
        "draw_digit(Img, dig)"
      ],
      "execution_count": 19,
      "outputs": [
        {
          "output_type": "display_data",
          "data": {
            "image/png": "[encoded data removed]",
            "text/plain": [
              "<Figure size 432x288 with 1 Axes>"
            ]
          },
          "metadata": {
            "tags": []
          }
        }
      ]
    },
    {
      "cell_type": "markdown",
      "metadata": {
        "id": "HkhcvnTn01TC",
        "colab_type": "text"
      },
      "source": [
        "Which class does the classifier return?"
      ]
    },
    {
      "cell_type": "code",
      "metadata": {
        "id": "5jicAqfTrrYJ",
        "colab_type": "code",
        "colab": {
          "base_uri": "https://localhost:8080/",
          "height": 35
        },
        "outputId": "3a2b0443-7971-40ad-bf0d-7b7684dc14f1"
      },
      "source": [
        "mlp_model.predict([Img])"
      ],
      "execution_count": 20,
      "outputs": [
        {
          "output_type": "execute_result",
          "data": {
            "text/plain": [
              "array([0])"
            ]
          },
          "metadata": {
            "tags": []
          },
          "execution_count": 20
        }
      ]
    },
    {
      "cell_type": "code",
      "metadata": {
        "id": "x62BeDWar-BG",
        "colab_type": "code",
        "colab": {
          "base_uri": "https://localhost:8080/",
          "height": 257
        },
        "outputId": "ccffb5e9-5a17-4051-93be-c440f03c2bfb"
      },
      "source": [
        "i = 16\n",
        "Img = X_test[i, :]\n",
        "dig = y_test[i]\n",
        "dig_pred = mlp_model.predict([Img])[0]\n",
        "draw_digit(Img, dig, dig_pred)"
      ],
      "execution_count": 21,
      "outputs": [
        {
          "output_type": "display_data",
          "data": {
            "image/png": "[encoded data removed]",
            "text/plain": [
              "<Figure size 432x288 with 1 Axes>"
            ]
          },
          "metadata": {
            "tags": []
          }
        }
      ]
    },
    {
      "cell_type": "markdown",
      "metadata": {
        "id": "hKdXudwltkrG",
        "colab_type": "text"
      },
      "source": [
        "## What about the quality of the classifier?\n",
        "\n",
        "Now let’s input the entire training and the entire test set:"
      ]
    },
    {
      "cell_type": "code",
      "metadata": {
        "id": "-W3RK6gZsMN6",
        "colab_type": "code",
        "colab": {}
      },
      "source": [
        "y_train_pred = mlp_model.predict(X_train)\n",
        "y_test_pred = mlp_model.predict(X_test)"
      ],
      "execution_count": 0,
      "outputs": []
    },
    {
      "cell_type": "markdown",
      "metadata": {
        "id": "NpadRgDetkrT",
        "colab_type": "text"
      },
      "source": [
        "Train and test errors:"
      ]
    },
    {
      "cell_type": "code",
      "metadata": {
        "id": "-9Vy4VwxsRKZ",
        "colab_type": "code",
        "colab": {
          "base_uri": "https://localhost:8080/",
          "height": 35
        },
        "outputId": "e938f69d-a3db-43ef-92f2-d51bd2c68750"
      },
      "source": [
        "print(np.mean(y_train != y_train_pred), np.mean(y_test != y_test_pred))"
      ],
      "execution_count": 23,
      "outputs": [
        {
          "output_type": "stream",
          "text": [
            "0.0 0.0\n"
          ],
          "name": "stdout"
        }
      ]
    },
    {
      "cell_type": "markdown",
      "metadata": {
        "id": "fzZgMKwJ28-m",
        "colab_type": "text"
      },
      "source": [
        "# All erroneous cases:"
      ]
    },
    {
      "cell_type": "code",
      "metadata": {
        "id": "ygJKbGl4sZOC",
        "colab_type": "code",
        "colab": {
          "base_uri": "https://localhost:8080/",
          "height": 35
        },
        "outputId": "a8f16bc5-1f1d-4dda-a499-98ce5e6e1956"
      },
      "source": [
        "train_error_cases = np.where(y_train != y_train_pred)\n",
        "test_error_cases = np.where(y_test != y_test_pred)\n",
        "print(train_error_cases, test_error_cases)"
      ],
      "execution_count": 24,
      "outputs": [
        {
          "output_type": "stream",
          "text": [
            "(array([], dtype=int64),) (array([], dtype=int64),)\n"
          ],
          "name": "stdout"
        }
      ]
    },
    {
      "cell_type": "code",
      "metadata": {
        "id": "dQA0WHOhsfvr",
        "colab_type": "code",
        "colab": {}
      },
      "source": [
        "plt.figure(figsize = (16, 16))\n",
        "i_subplot = 1 \n",
        "for i in np.nditer(test_error_cases):\n",
        "    Img = X_test[i, :]\n",
        "    digit = y_test[i]\n",
        "    digit_pred = y_test[i]\n",
        "    plt.subplot(8, 8, i_subplot)\n",
        "    draw_digit(Img, digit, digit_pred)\n",
        "    i_subplot += 1"
      ],
      "execution_count": 0,
      "outputs": []
    },
    {
      "cell_type": "markdown",
      "metadata": {
        "id": "txxUCohetkrr",
        "colab_type": "text"
      },
      "source": [
        "## Hyperparameter choosing\n",
        "\n",
        "\n",
        "Find the _optimal_ value for parameter `alpha` (weight decay)\n",
        "\n",
        "(Instead of using `for` cycle we could use `sklearn.model_selection.GridSearchCV`)"
      ]
    },
    {
      "cell_type": "code",
      "metadata": {
        "id": "gyhHIwSGs10b",
        "colab_type": "code",
        "colab": {}
      },
      "source": [
        "alpha_arr = np.logspace(-3, 2, num=21)\n",
        "test_err = []\n",
        "train_err = []\n",
        "for alpha in alpha_arr:\n",
        "    mlp_model = MLPClassifier(alpha = alpha, hidden_layer_sizes = (100), \n",
        "                              solver = 'lbfgs', activation = 'logistic', \n",
        "                              random_state = 42)\n",
        "    mlp_model.fit(X_train, y_train)\n",
        "\n",
        "    y_train_pred = mlp_model.predict(X_train)\n",
        "    y_test_pred = mlp_model.predict(X_test)\n",
        "    train_err.append(np.mean(y_train != y_train_pred))\n",
        "    test_err.append(np.mean(y_test != y_test_pred))"
      ],
      "execution_count": 0,
      "outputs": []
    },
    {
      "cell_type": "code",
      "metadata": {
        "id": "09rmGiMms874",
        "colab_type": "code",
        "colab": {
          "base_uri": "https://localhost:8080/",
          "height": 125
        },
        "outputId": "ba4772a7-3cc2-4b25-fdb5-b3a6682c19ac"
      },
      "source": [
        "alpha_arr"
      ],
      "execution_count": 27,
      "outputs": [
        {
          "output_type": "execute_result",
          "data": {
            "text/plain": [
              "array([1.00000000e-03, 1.77827941e-03, 3.16227766e-03, 5.62341325e-03,\n",
              "       1.00000000e-02, 1.77827941e-02, 3.16227766e-02, 5.62341325e-02,\n",
              "       1.00000000e-01, 1.77827941e-01, 3.16227766e-01, 5.62341325e-01,\n",
              "       1.00000000e+00, 1.77827941e+00, 3.16227766e+00, 5.62341325e+00,\n",
              "       1.00000000e+01, 1.77827941e+01, 3.16227766e+01, 5.62341325e+01,\n",
              "       1.00000000e+02])"
            ]
          },
          "metadata": {
            "tags": []
          },
          "execution_count": 27
        }
      ]
    },
    {
      "cell_type": "markdown",
      "metadata": {
        "id": "ZP3s_XtV1YpF",
        "colab_type": "text"
      },
      "source": [
        "Draw the graphs of a dependence of the train and test errors on `alpha` "
      ]
    },
    {
      "cell_type": "code",
      "metadata": {
        "id": "QT7VPWDNtIyO",
        "colab_type": "code",
        "colab": {
          "base_uri": "https://localhost:8080/",
          "height": 299
        },
        "outputId": "8814b9f2-5e9e-438d-a8b6-0b2da18b13cb"
      },
      "source": [
        "plt.semilogx(alpha_arr, train_err, 'b-o', label = 'train')\n",
        "plt.semilogx(alpha_arr, test_err, 'r-o', label = 'test')\n",
        "#plt.xlim([np.max(alpha_arr), np.min(alpha_arr)])\n",
        "plt.title('Error vs. alpha')\n",
        "plt.xlabel('alpha')\n",
        "plt.ylabel('error')\n",
        "plt.legend()\n",
        "pass"
      ],
      "execution_count": 28,
      "outputs": [
        {
          "output_type": "display_data",
          "data": {
            "image/png": "[encoded data removed]",
            "text/plain": [
              "<Figure size 432x288 with 1 Axes>"
            ]
          },
          "metadata": {
            "tags": [],
            "needs_background": "light"
          }
        }
      ]
    },
    {
      "cell_type": "markdown",
      "metadata": {
        "id": "w0RgbdIatkr1",
        "colab_type": "text"
      },
      "source": [
        "Minimum values of the errors:"
      ]
    },
    {
      "cell_type": "code",
      "metadata": {
        "id": "cxoJubTxtgWw",
        "colab_type": "code",
        "colab": {
          "base_uri": "https://localhost:8080/",
          "height": 35
        },
        "outputId": "3f301895-5ae9-451f-afd0-03edadf59bb8"
      },
      "source": [
        "min_train_err = np.min(train_err)\n",
        "min_test_err = np.min(test_err)\n",
        "\n",
        "print(min_train_err, min_test_err)"
      ],
      "execution_count": 29,
      "outputs": [
        {
          "output_type": "stream",
          "text": [
            "0.0 0.0\n"
          ],
          "name": "stdout"
        }
      ]
    },
    {
      "cell_type": "markdown",
      "metadata": {
        "id": "0p1WFO6Vtkr_",
        "colab_type": "text"
      },
      "source": [
        "Optimum value of the `alpha`:"
      ]
    },
    {
      "cell_type": "code",
      "metadata": {
        "id": "y1IuFHfcthHX",
        "colab_type": "code",
        "colab": {
          "base_uri": "https://localhost:8080/",
          "height": 125
        },
        "outputId": "0b7bb5ec-2706-4fa3-9754-4aae8d1cf315"
      },
      "source": [
        "alpha_opt = alpha_arr[test_err == min_test_err]\n",
        "print(alpha_opt)"
      ],
      "execution_count": 30,
      "outputs": [
        {
          "output_type": "stream",
          "text": [
            "[1.00000000e-03 1.77827941e-03 3.16227766e-03 5.62341325e-03\n",
            " 1.00000000e-02 1.77827941e-02 3.16227766e-02 5.62341325e-02\n",
            " 1.00000000e-01 1.77827941e-01 3.16227766e-01 5.62341325e-01\n",
            " 1.00000000e+00 1.77827941e+00 3.16227766e+00 5.62341325e+00\n",
            " 1.00000000e+01 1.77827941e+01 3.16227766e+01 5.62341325e+01\n",
            " 1.00000000e+02]\n"
          ],
          "name": "stdout"
        }
      ]
    },
    {
      "cell_type": "code",
      "metadata": {
        "id": "3wz1--ZKtjG9",
        "colab_type": "code",
        "colab": {}
      },
      "source": [
        "alpha_opt = alpha_opt[0]"
      ],
      "execution_count": 0,
      "outputs": []
    },
    {
      "cell_type": "markdown",
      "metadata": {
        "id": "nGngqObvtksI",
        "colab_type": "text"
      },
      "source": [
        "## The classifier for *optimal* value of `alpha`:"
      ]
    },
    {
      "cell_type": "markdown",
      "metadata": {
        "id": "KGBbtNTLtksK",
        "colab_type": "text"
      },
      "source": [
        "Repeat the training:"
      ]
    },
    {
      "cell_type": "code",
      "metadata": {
        "id": "9GA4KQQgtq6E",
        "colab_type": "code",
        "colab": {
          "base_uri": "https://localhost:8080/",
          "height": 53
        },
        "outputId": "e0aed2a7-184e-49eb-951d-b5372510c91b"
      },
      "source": [
        "mlp_model = MLPClassifier(alpha = alpha_opt, hidden_layer_sizes = (100,),\n",
        "                          solver = 'lbfgs', activation = 'logistic', random_state = 42)\n",
        "mlp_model.fit(X_train, y_train)\n",
        "\n",
        "y_train_pred = mlp_model.predict(X_train)\n",
        "y_test_pred = mlp_model.predict(X_test)\n",
        "print(np.mean(y_train != y_train_pred))\n",
        "print(np.mean(y_test != y_test_pred))"
      ],
      "execution_count": 33,
      "outputs": [
        {
          "output_type": "stream",
          "text": [
            "0.0\n",
            "0.0\n"
          ],
          "name": "stdout"
        }
      ]
    },
    {
      "cell_type": "markdown",
      "metadata": {
        "id": "PPRxdPmmtksS",
        "colab_type": "text"
      },
      "source": [
        "## Confusion matrix\n",
        "\n",
        "Confusion matrix allows us to estimate the quality of the classifier. The rows of the matrix correspond to the real classes. The columns to the predicted classes. At the intersection of the row `i` and the column` j` is the number of objects of the `i`th class, classified by the classifier as the `j`th class. In Python, all indices are numbered beginning from 0."
      ]
    },
    {
      "cell_type": "code",
      "metadata": {
        "id": "uHnwILPLtucA",
        "colab_type": "code",
        "colab": {
          "base_uri": "https://localhost:8080/",
          "height": 35
        },
        "outputId": "f74d73ba-fdf6-4d6d-e387-9739027fc494"
      },
      "source": [
        "from sklearn.metrics import confusion_matrix\n",
        "print(confusion_matrix(y_test, y_test_pred))"
      ],
      "execution_count": 34,
      "outputs": [
        {
          "output_type": "stream",
          "text": [
            "[[3962]]\n"
          ],
          "name": "stdout"
        }
      ]
    },
    {
      "cell_type": "code",
      "metadata": {
        "id": "jUuPnTfyt0vC",
        "colab_type": "code",
        "colab": {
          "base_uri": "https://localhost:8080/",
          "height": 279
        },
        "outputId": "81138b8d-c6f1-4a96-99db-3ba847eaa1b6"
      },
      "source": [
        "M = confusion_matrix(y_test, y_test_pred)\n",
        "M = np.sqrt(M)\n",
        "plt.imshow(M, interpolation = 'nearest')\n",
        "plt.set_cmap('binary')\n",
        "plt.xticks(range(10))\n",
        "plt.yticks(range(10))\n",
        "plt.xlabel(\"predicted label\")\n",
        "plt.ylabel(\"true label\")\n",
        "plt.colorbar()\n",
        "pass"
      ],
      "execution_count": 35,
      "outputs": [
        {
          "output_type": "display_data",
          "data": {
            "image/png": "[encoded data removed]",
            "text/plain": [
              "<Figure size 432x288 with 2 Axes>"
            ]
          },
          "metadata": {
            "tags": [],
            "needs_background": "light"
          }
        }
      ]
    },
    {
      "cell_type": "code",
      "metadata": {
        "id": "tUTk8jKot5G-",
        "colab_type": "code",
        "colab": {}
      },
      "source": [
        "from sklearn.metrics import plot_confusion_matrix\n",
        "plot_confusion_matrix(y_test, y_test_pred) # Since Version 0.22"
      ],
      "execution_count": 0,
      "outputs": []
    },
    {
      "cell_type": "markdown",
      "metadata": {
        "id": "9m9qbCB3tksi",
        "colab_type": "text"
      },
      "source": [
        "## Other metrics of quality"
      ]
    },
    {
      "cell_type": "code",
      "metadata": {
        "id": "gXY7mPRYt78B",
        "colab_type": "code",
        "colab": {
          "base_uri": "https://localhost:8080/",
          "height": 161
        },
        "outputId": "cc3d13f9-f2f4-41b6-d778-e450042ed1b6"
      },
      "source": [
        "from sklearn.metrics import classification_report\n",
        "print(classification_report(y_test, y_test_pred))"
      ],
      "execution_count": 37,
      "outputs": [
        {
          "output_type": "stream",
          "text": [
            "              precision    recall  f1-score   support\n",
            "\n",
            "           0       1.00      1.00      1.00      3962\n",
            "\n",
            "    accuracy                           1.00      3962\n",
            "   macro avg       1.00      1.00      1.00      3962\n",
            "weighted avg       1.00      1.00      1.00      3962\n",
            "\n"
          ],
          "name": "stdout"
        }
      ]
    },
    {
      "cell_type": "markdown",
      "metadata": {
        "id": "0h7W1ttltkso",
        "colab_type": "text"
      },
      "source": [
        "${\\rm error} = \\frac{{\\rm FP} + {\\rm FN}}{{\\rm TP} + {\\rm TN} + {\\rm FP} + {\\rm FN}}$ \n",
        "\n",
        "${\\rm accuracy} = \\frac{{\\rm TP} + {\\rm TN}}{{\\rm TP} + {\\rm TN} + {\\rm FP} + {\\rm FN}} = 1 - {\\rm error}$ \n",
        "\n",
        "${\\rm precision} = \\frac{{\\rm TP}}{{\\rm FP}+{\\rm TP}}$ \n",
        "\n",
        "${\\rm recall} = {\\rm TPR} = \\frac{{\\rm TP}}{{\\rm FN}+{\\rm TP}}$ \n",
        "\n",
        "$F_1 = 2\\cdot\\frac{{\\rm precision}\\cdot{\\rm recall}}{{\\rm precision}+{\\rm recall}}$ \n",
        "\n",
        "\n",
        "\n"
      ]
    }
  ]
}