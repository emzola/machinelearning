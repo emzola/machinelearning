{
  "nbformat": 4,
  "nbformat_minor": 0,
  "metadata": {
    "colab": {
      "name": "Classification.ipynb",
      "provenance": [],
      "mount_file_id": "1YEvtRe5Awg_YnYgZvwJ6y61PZSGY_jHR",
      "authorship_tag": "ABX9TyM9Rvlyfi3ecqFGw3ZvvmaZ",
      "include_colab_link": true
    },
    "kernelspec": {
      "name": "python3",
      "display_name": "Python 3"
    }
  },
  "cells": [
    {
      "cell_type": "markdown",
      "metadata": {
        "id": "view-in-github",
        "colab_type": "text"
      },
      "source": [
        "<a href=\"https://colab.research.google.com/github/emzola/machinelearning/blob/master/Classification.ipynb\" target=\"_parent\"><img src=\"https://colab.research.google.com/assets/colab-badge.svg\" alt=\"Open In Colab\"/></a>"
      ]
    },
    {
      "cell_type": "code",
      "metadata": {
        "id": "677XH-2GS0dF",
        "colab_type": "code",
        "colab": {}
      },
      "source": [
        "import tensorflow as tf\n",
        "tf.test.gpu_device_name()\n",
        "from tensorflow import keras\n",
        "from tensorflow.keras.optimizers import RMSprop\n",
        "import zipfile\n",
        "import os\n",
        "import cv2\n",
        "import numpy as np\n",
        "import matplotlib.pyplot as plt\n",
        "%matplotlib inline \n",
        "\n",
        "print(tf.__version__)"
      ],
      "execution_count": 0,
      "outputs": []
    },
    {
      "cell_type": "code",
      "metadata": {
        "id": "ARu4Ne46mUno",
        "colab_type": "code",
        "colab": {}
      },
      "source": [
        "zipdir = \"/content/drive/My Drive/datasets/training_images.zip\"\n",
        "\n",
        "with zipfile.ZipFile(zipdir, 'r') as myzip:\n",
        "  myzip.extractall()"
      ],
      "execution_count": 0,
      "outputs": []
    },
    {
      "cell_type": "code",
      "metadata": {
        "id": "dfZIiOBEZufk",
        "colab_type": "code",
        "colab": {}
      },
      "source": [
        "def load_image(file_path):\n",
        "    return cv2.imread(file_path)\n",
        "\n",
        "def extract_label(file_name):\n",
        "    return 1 if \"One\" in file_name else 2 if \"Two\" in file_name else 3 if \"Three\" in file_name else 4 if \"Four\" in file_name else 5 if \"Five\" in file_name else 0\n",
        "\n",
        "train_path = \"./training_images/\"\n",
        "image_files = os.listdir(train_path)\n",
        "train_images = [load_image(train_path + file) for file in image_files]\n",
        "train_labels = [extract_label(file) for file in image_files]"
      ],
      "execution_count": 0,
      "outputs": []
    },
    {
      "cell_type": "code",
      "metadata": {
        "id": "AWGf3UPvo3c8",
        "colab_type": "code",
        "colab": {}
      },
      "source": [
        "def preprocess_image(img, side=128):\n",
        "    min_side = min(img.shape[0], img.shape[1])\n",
        "    img = img[:min_side, :min_side]\n",
        "    img = cv2.resize(img, (side,side))\n",
        "    img = cv2.cvtColor(img, cv2.COLOR_BGR2GRAY)\n",
        "    return img / 255.0"
      ],
      "execution_count": 0,
      "outputs": []
    },
    {
      "cell_type": "code",
      "metadata": {
        "id": "h7SvfLfao9Wy",
        "colab_type": "code",
        "colab": {}
      },
      "source": [
        "preview_index = 1002\n",
        "plt.subplot(1,2,1)\n",
        "plt.imshow(train_images[preview_index])\n",
        "plt.subplot(1,2,2)\n",
        "plt.imshow(preprocess_image(train_images[preview_index]), cmap=\"gray\")"
      ],
      "execution_count": 0,
      "outputs": []
    },
    {
      "cell_type": "code",
      "metadata": {
        "id": "6OIEEXM7pL0q",
        "colab_type": "code",
        "colab": {}
      },
      "source": [
        "for i in range(len(train_images)):\n",
        "    train_images[i] = preprocess_image(train_images[i])"
      ],
      "execution_count": 0,
      "outputs": []
    },
    {
      "cell_type": "code",
      "metadata": {
        "id": "2FjFxYsqpNTU",
        "colab_type": "code",
        "colab": {}
      },
      "source": [
        "train_images = np.expand_dims(train_images, axis=-1)\n",
        "train_labels = np.array(train_labels)\n",
        "print(train_images.shape, train_labels.shape)"
      ],
      "execution_count": 0,
      "outputs": []
    },
    {
      "cell_type": "code",
      "metadata": {
        "id": "QUImktrypRFK",
        "colab_type": "code",
        "colab": {}
      },
      "source": [
        "X = train_images\n",
        "y = train_labels"
      ],
      "execution_count": 0,
      "outputs": []
    },
    {
      "cell_type": "code",
      "metadata": {
        "id": "d2RDub_UpU99",
        "colab_type": "code",
        "colab": {}
      },
      "source": [
        "np.shape(X)"
      ],
      "execution_count": 0,
      "outputs": []
    },
    {
      "cell_type": "code",
      "metadata": {
        "id": "0quwBQrCpzud",
        "colab_type": "code",
        "colab": {}
      },
      "source": [
        "def draw_digit(Img, digit_true, digit_pred = ''):\n",
        "    plt.xticks([])\n",
        "    plt.yticks([])\n",
        "    plt.imshow(np.reshape(Img, (128, 128)), interpolation = 'nearest')\n",
        "    plt.text(0, 7, str(digit_true), color = 'b')\n",
        "    plt.text(0, 1, str(digit_pred), color = 'r')\n",
        "    plt.set_cmap('binary')    "
      ],
      "execution_count": 0,
      "outputs": []
    },
    {
      "cell_type": "code",
      "metadata": {
        "id": "gR12Ah5AqMFD",
        "colab_type": "code",
        "colab": {}
      },
      "source": [
        "plt.figure(figsize = (16, 9))\n",
        "for i_subplot in range(60):\n",
        "    plt.subplot(6, 10, i_subplot + 1)\n",
        "    draw_digit(X[i_subplot, :], y[i_subplot])"
      ],
      "execution_count": 0,
      "outputs": []
    },
    {
      "cell_type": "code",
      "metadata": {
        "id": "B6QYwzf1qpgg",
        "colab_type": "code",
        "colab": {}
      },
      "source": [
        "from sklearn.model_selection import train_test_split\n",
        "X_train, X_test, y_train, y_test = train_test_split(X, y, test_size = 0.33, random_state = 42)"
      ],
      "execution_count": 0,
      "outputs": []
    },
    {
      "cell_type": "code",
      "metadata": {
        "id": "-kCtsSOcqxPX",
        "colab_type": "code",
        "colab": {}
      },
      "source": [
        "N_train = X_train.shape\n",
        "N_test = X_test.shape\n",
        "print(N_train, N_test)"
      ],
      "execution_count": 0,
      "outputs": []
    },
    {
      "cell_type": "code",
      "metadata": {
        "id": "QIt6POphq-Gw",
        "colab_type": "code",
        "colab": {}
      },
      "source": [
        "from sklearn.neural_network import MLPClassifier"
      ],
      "execution_count": 0,
      "outputs": []
    },
    {
      "cell_type": "code",
      "metadata": {
        "id": "CdtQR5XLrBZq",
        "colab_type": "code",
        "colab": {}
      },
      "source": [
        "mlp_model = MLPClassifier(hidden_layer_sizes = (100,), solver = 'lbfgs', \n",
        "                          activation = 'logistic', random_state = 42)"
      ],
      "execution_count": 0,
      "outputs": []
    },
    {
      "cell_type": "code",
      "metadata": {
        "id": "zqgAQABArEOT",
        "colab_type": "code",
        "colab": {}
      },
      "source": [
        "X_train = X_train.reshape(8044,1*128*128)\n",
        "X_test = X_test.reshape(3962,1*128*128)"
      ],
      "execution_count": 0,
      "outputs": []
    },
    {
      "cell_type": "code",
      "metadata": {
        "id": "qC6B5vtkrRTX",
        "colab_type": "code",
        "colab": {}
      },
      "source": [
        "mlp_model.fit(X_train, y_train)"
      ],
      "execution_count": 0,
      "outputs": []
    },
    {
      "cell_type": "code",
      "metadata": {
        "id": "kCGVypIQraiY",
        "colab_type": "code",
        "colab": {}
      },
      "source": [
        "i = 16\n",
        "Img = X_test[i, :]\n",
        "dig = y_test[i]\n",
        "draw_digit(Img, dig)"
      ],
      "execution_count": 0,
      "outputs": []
    },
    {
      "cell_type": "code",
      "metadata": {
        "id": "5jicAqfTrrYJ",
        "colab_type": "code",
        "colab": {}
      },
      "source": [
        "mlp_model.predict([Img])"
      ],
      "execution_count": 0,
      "outputs": []
    },
    {
      "cell_type": "code",
      "metadata": {
        "id": "x62BeDWar-BG",
        "colab_type": "code",
        "colab": {}
      },
      "source": [
        "i = 16\n",
        "Img = X_test[i, :]\n",
        "dig = y_test[i]\n",
        "dig_pred = mlp_model.predict([Img])[0]\n",
        "draw_digit(Img, dig, dig_pred)"
      ],
      "execution_count": 0,
      "outputs": []
    },
    {
      "cell_type": "code",
      "metadata": {
        "id": "-W3RK6gZsMN6",
        "colab_type": "code",
        "colab": {}
      },
      "source": [
        "y_train_pred = mlp_model.predict(X_train)\n",
        "y_test_pred = mlp_model.predict(X_test)"
      ],
      "execution_count": 0,
      "outputs": []
    },
    {
      "cell_type": "code",
      "metadata": {
        "id": "-9Vy4VwxsRKZ",
        "colab_type": "code",
        "colab": {}
      },
      "source": [
        "print(np.mean(y_train != y_train_pred), np.mean(y_test != y_test_pred))"
      ],
      "execution_count": 0,
      "outputs": []
    },
    {
      "cell_type": "code",
      "metadata": {
        "id": "ygJKbGl4sZOC",
        "colab_type": "code",
        "colab": {}
      },
      "source": [
        "train_error_cases = np.where(y_train != y_train_pred)\n",
        "test_error_cases = np.where(y_test != y_test_pred)\n",
        "print(train_error_cases, test_error_cases)"
      ],
      "execution_count": 0,
      "outputs": []
    },
    {
      "cell_type": "code",
      "metadata": {
        "id": "dQA0WHOhsfvr",
        "colab_type": "code",
        "colab": {}
      },
      "source": [
        "plt.figure(figsize = (16, 16))\n",
        "i_subplot = 1 \n",
        "for i in np.nditer(test_error_cases):\n",
        "    Img = X_test[i, :]\n",
        "    digit = y_test[i]\n",
        "    digit_pred = y_test[i]\n",
        "    plt.subplot(8, 8, i_subplot)\n",
        "    draw_digit(Img, digit, digit_pred)\n",
        "    i_subplot += 1"
      ],
      "execution_count": 0,
      "outputs": []
    },
    {
      "cell_type": "code",
      "metadata": {
        "id": "gyhHIwSGs10b",
        "colab_type": "code",
        "colab": {}
      },
      "source": [
        "alpha_arr = np.logspace(-3, 2, num=21)\n",
        "test_err = []\n",
        "train_err = []\n",
        "for alpha in alpha_arr:\n",
        "    mlp_model = MLPClassifier(alpha = alpha, hidden_layer_sizes = (100), \n",
        "                              solver = 'lbfgs', activation = 'logistic', \n",
        "                              random_state = 42)\n",
        "    mlp_model.fit(X_train, y_train)\n",
        "\n",
        "    y_train_pred = mlp_model.predict(X_train)\n",
        "    y_test_pred = mlp_model.predict(X_test)\n",
        "    train_err.append(np.mean(y_train != y_train_pred))\n",
        "    test_err.append(np.mean(y_test != y_test_pred))"
      ],
      "execution_count": 0,
      "outputs": []
    },
    {
      "cell_type": "code",
      "metadata": {
        "id": "09rmGiMms874",
        "colab_type": "code",
        "colab": {}
      },
      "source": [
        "alpha_arr"
      ],
      "execution_count": 0,
      "outputs": []
    },
    {
      "cell_type": "code",
      "metadata": {
        "id": "QT7VPWDNtIyO",
        "colab_type": "code",
        "colab": {}
      },
      "source": [
        "plt.semilogx(alpha_arr, train_err, 'b-o', label = 'train')\n",
        "plt.semilogx(alpha_arr, test_err, 'r-o', label = 'test')\n",
        "#plt.xlim([np.max(alpha_arr), np.min(alpha_arr)])\n",
        "plt.title('Error vs. alpha')\n",
        "plt.xlabel('alpha')\n",
        "plt.ylabel('error')\n",
        "plt.legend()\n",
        "pass"
      ],
      "execution_count": 0,
      "outputs": []
    },
    {
      "cell_type": "code",
      "metadata": {
        "id": "cxoJubTxtgWw",
        "colab_type": "code",
        "colab": {}
      },
      "source": [
        "min_train_err = np.min(train_err)\n",
        "min_test_err = np.min(test_err)\n",
        "\n",
        "print(min_train_err, min_test_err)"
      ],
      "execution_count": 0,
      "outputs": []
    },
    {
      "cell_type": "code",
      "metadata": {
        "id": "y1IuFHfcthHX",
        "colab_type": "code",
        "colab": {}
      },
      "source": [
        "alpha_opt = alpha_arr[test_err == min_test_err]\n",
        "print(alpha_opt)"
      ],
      "execution_count": 0,
      "outputs": []
    },
    {
      "cell_type": "code",
      "metadata": {
        "id": "3wz1--ZKtjG9",
        "colab_type": "code",
        "colab": {}
      },
      "source": [
        "alpha_opt = alpha_opt[0]"
      ],
      "execution_count": 0,
      "outputs": []
    },
    {
      "cell_type": "code",
      "metadata": {
        "id": "9GA4KQQgtq6E",
        "colab_type": "code",
        "colab": {}
      },
      "source": [
        "mlp_model = MLPClassifier(alpha = alpha_opt, hidden_layer_sizes = (100,),\n",
        "                          solver = 'lbfgs', activation = 'logistic', random_state = 42)\n",
        "mlp_model.fit(X_train, y_train)\n",
        "\n",
        "y_train_pred = mlp_model.predict(X_train)\n",
        "y_test_pred = mlp_model.predict(X_test)\n",
        "print(np.mean(y_train != y_train_pred))\n",
        "print(np.mean(y_test != y_test_pred))"
      ],
      "execution_count": 0,
      "outputs": []
    },
    {
      "cell_type": "code",
      "metadata": {
        "id": "uHnwILPLtucA",
        "colab_type": "code",
        "colab": {}
      },
      "source": [
        "from sklearn.metrics import confusion_matrix\n",
        "print(confusion_matrix(y_test, y_test_pred))"
      ],
      "execution_count": 0,
      "outputs": []
    },
    {
      "cell_type": "code",
      "metadata": {
        "id": "jUuPnTfyt0vC",
        "colab_type": "code",
        "colab": {}
      },
      "source": [
        "M = confusion_matrix(y_test, y_test_pred)\n",
        "M = np.sqrt(M)\n",
        "plt.imshow(M, interpolation = 'nearest')\n",
        "plt.set_cmap('binary')\n",
        "plt.xticks(range(10))\n",
        "plt.yticks(range(10))\n",
        "plt.xlabel(\"predicted label\")\n",
        "plt.ylabel(\"true label\")\n",
        "plt.colorbar()\n",
        "pass"
      ],
      "execution_count": 0,
      "outputs": []
    },
    {
      "cell_type": "code",
      "metadata": {
        "id": "tUTk8jKot5G-",
        "colab_type": "code",
        "colab": {}
      },
      "source": [
        "from sklearn.metrics import plot_confusion_matrix\n",
        "plot_confusion_matrix(y_test, y_test_pred) # Since Version 0.22"
      ],
      "execution_count": 0,
      "outputs": []
    },
    {
      "cell_type": "code",
      "metadata": {
        "id": "gXY7mPRYt78B",
        "colab_type": "code",
        "colab": {}
      },
      "source": [
        "from sklearn.metrics import classification_report\n",
        "print(classification_report(y_test, y_test_pred))"
      ],
      "execution_count": 0,
      "outputs": []
    }
  ]
}