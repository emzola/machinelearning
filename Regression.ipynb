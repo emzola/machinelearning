{
  "nbformat": 4,
  "nbformat_minor": 0,
  "metadata": {
    "colab": {
      "name": "Regression.ipynb",
      "provenance": [],
      "mount_file_id": "16kMyGTt7qXmksDMelmzitKyQIQBEQUMA",
      "authorship_tag": "ABX9TyMDSuwQ44mMw0xVhrhEQmWS",
      "include_colab_link": true
    },
    "kernelspec": {
      "name": "python3",
      "display_name": "Python 3"
    }
  },
  "cells": [
    {
      "cell_type": "markdown",
      "metadata": {
        "id": "view-in-github",
        "colab_type": "text"
      },
      "source": [
        "<a href=\"https://colab.research.google.com/github/emzola/machinelearning/blob/master/Regression.ipynb\" target=\"_parent\"><img src=\"https://colab.research.google.com/assets/colab-badge.svg\" alt=\"Open In Colab\"/></a>"
      ]
    },
    {
      "cell_type": "code",
      "metadata": {
        "colab_type": "code",
        "id": "ASCLOEOnP1K0",
        "colab": {}
      },
      "source": [
        "import numpy as np\n",
        "import pandas as pd\n",
        "import matplotlib.pyplot as plt\n",
        "import seaborn as sns\n",
        "import mpl_toolkits\n",
        "%matplotlib inline\n",
        "\n",
        "path = \"/content/drive/My Drive/datasets/kc_house_data.csv\"\n",
        "data = pd.read_csv(path)"
      ],
      "execution_count": 0,
      "outputs": []
    },
    {
      "cell_type": "code",
      "metadata": {
        "id": "lh4fMlw1CLHm",
        "colab_type": "code",
        "colab": {}
      },
      "source": [
        "path = \"/content/drive/My Drive/datasets/kc_house_data.csv\"\n",
        "data = pd.read_csv(path)"
      ],
      "execution_count": 0,
      "outputs": []
    },
    {
      "cell_type": "code",
      "metadata": {
        "id": "i2DzzQWuFExD",
        "colab_type": "code",
        "colab": {}
      },
      "source": [
        "data.head()"
      ],
      "execution_count": 0,
      "outputs": []
    },
    {
      "cell_type": "code",
      "metadata": {
        "id": "dWYC6XbrFHmU",
        "colab_type": "code",
        "colab": {}
      },
      "source": [
        "data.describe()"
      ],
      "execution_count": 0,
      "outputs": []
    },
    {
      "cell_type": "code",
      "metadata": {
        "id": "LQAS4p4sFMtj",
        "colab_type": "code",
        "colab": {}
      },
      "source": [
        "data['bedrooms'].value_counts().plot(kind='bar')\n",
        "plt.title('number of Bedroom')\n",
        "plt.xlabel('Bedrooms')\n",
        "plt.ylabel('Count')\n",
        "sns.despine"
      ],
      "execution_count": 0,
      "outputs": []
    },
    {
      "cell_type": "code",
      "metadata": {
        "id": "Na7XvsqbFYwE",
        "colab_type": "code",
        "colab": {}
      },
      "source": [
        "plt.figure(figsize=(10,10))\n",
        "sns.jointplot(x=data.lat.values, y=data.long.values, height=10)\n",
        "plt.ylabel('Longitude', fontsize=12)\n",
        "plt.xlabel('Latitude', fontsize=12)\n",
        "plt.show()\n",
        "sns.despine"
      ],
      "execution_count": 0,
      "outputs": []
    },
    {
      "cell_type": "code",
      "metadata": {
        "id": "S6GhcLKOGmYk",
        "colab_type": "code",
        "colab": {}
      },
      "source": [
        "plt.scatter(data.price,data.sqft_living)\n",
        "plt.title(\"Price vs Square Feet\")"
      ],
      "execution_count": 0,
      "outputs": []
    },
    {
      "cell_type": "code",
      "metadata": {
        "id": "mjQF8jtUGteY",
        "colab_type": "code",
        "colab": {}
      },
      "source": [
        "plt.scatter(data.price,data.long)\n",
        "plt.title(\"Price vs Location of the area\")"
      ],
      "execution_count": 0,
      "outputs": []
    },
    {
      "cell_type": "code",
      "metadata": {
        "id": "kdU9Es8RGzbN",
        "colab_type": "code",
        "colab": {}
      },
      "source": [
        "plt.scatter(data.price,data.lat)\n",
        "plt.xlabel(\"Price\")\n",
        "plt.ylabel('Latitude')\n",
        "plt.title(\"Latitude vs Price\")"
      ],
      "execution_count": 0,
      "outputs": []
    },
    {
      "cell_type": "code",
      "metadata": {
        "id": "8k16Q1oaG1hY",
        "colab_type": "code",
        "colab": {}
      },
      "source": [
        "plt.scatter(data.bedrooms,data.price)\n",
        "plt.title(\"Bedroom and Price \")\n",
        "plt.xlabel(\"Bedrooms\")\n",
        "plt.ylabel(\"Price\")\n",
        "plt.show()\n",
        "sns.despine"
      ],
      "execution_count": 0,
      "outputs": []
    },
    {
      "cell_type": "code",
      "metadata": {
        "id": "4wvkuy2FG6U0",
        "colab_type": "code",
        "colab": {}
      },
      "source": [
        "plt.scatter((data['sqft_living']+data['sqft_basement']),data['price'])"
      ],
      "execution_count": 0,
      "outputs": []
    },
    {
      "cell_type": "code",
      "metadata": {
        "id": "bYOdwiwQGS1l",
        "colab_type": "code",
        "colab": {}
      },
      "source": [
        "plt.scatter(data.waterfront,data.price)\n",
        "plt.title(\"Waterfront vs Price ( 0= no waterfront)\")"
      ],
      "execution_count": 0,
      "outputs": []
    },
    {
      "cell_type": "code",
      "metadata": {
        "id": "nNncuAlBHG5-",
        "colab_type": "code",
        "colab": {}
      },
      "source": [
        "train1 = data.drop(['id', 'price'],axis=1)\n",
        "train1.head()"
      ],
      "execution_count": 0,
      "outputs": []
    },
    {
      "cell_type": "code",
      "metadata": {
        "id": "CVzV02wcHOi2",
        "colab_type": "code",
        "colab": {}
      },
      "source": [
        "data.floors.value_counts().plot(kind='bar')"
      ],
      "execution_count": 0,
      "outputs": []
    },
    {
      "cell_type": "code",
      "metadata": {
        "id": "UwV0PkugHSeK",
        "colab_type": "code",
        "colab": {}
      },
      "source": [
        "plt.scatter(data.floors,data.price)"
      ],
      "execution_count": 0,
      "outputs": []
    },
    {
      "cell_type": "code",
      "metadata": {
        "id": "ReuGTGONHV6P",
        "colab_type": "code",
        "colab": {}
      },
      "source": [
        "plt.scatter(data.condition,data.price)"
      ],
      "execution_count": 0,
      "outputs": []
    },
    {
      "cell_type": "code",
      "metadata": {
        "id": "GrBsq6TvHZCz",
        "colab_type": "code",
        "colab": {}
      },
      "source": [
        "plt.scatter(data.zipcode,data.price)\n",
        "plt.title(\"Which is the pricey location by zipcode?\")"
      ],
      "execution_count": 0,
      "outputs": []
    },
    {
      "cell_type": "code",
      "metadata": {
        "id": "TEY_27TkHeEK",
        "colab_type": "code",
        "colab": {}
      },
      "source": [
        "from sklearn.linear_model import LinearRegression\n",
        "reg = LinearRegression()"
      ],
      "execution_count": 0,
      "outputs": []
    },
    {
      "cell_type": "code",
      "metadata": {
        "id": "9bd13imvHlYd",
        "colab_type": "code",
        "colab": {}
      },
      "source": [
        "labels = data['price']\n",
        "conv_dates = [1 if values == 2014 else 0 for values in data.date ]\n",
        "data['date'] = conv_dates\n",
        "train1 = data.drop(['id', 'price'],axis=1)"
      ],
      "execution_count": 0,
      "outputs": []
    },
    {
      "cell_type": "code",
      "metadata": {
        "id": "v0w8Yi3aHtzr",
        "colab_type": "code",
        "colab": {}
      },
      "source": [
        "from sklearn.model_selection import train_test_split"
      ],
      "execution_count": 0,
      "outputs": []
    },
    {
      "cell_type": "code",
      "metadata": {
        "id": "4oIgmJBMIgrK",
        "colab_type": "code",
        "colab": {}
      },
      "source": [
        "x_train , x_test , y_train , y_test = train_test_split(train1 , labels , test_size = 0.10,random_state =2)"
      ],
      "execution_count": 0,
      "outputs": []
    },
    {
      "cell_type": "code",
      "metadata": {
        "id": "enqtMz0gIkf2",
        "colab_type": "code",
        "colab": {}
      },
      "source": [
        "reg.fit(x_train,y_train)"
      ],
      "execution_count": 0,
      "outputs": []
    },
    {
      "cell_type": "code",
      "metadata": {
        "id": "-rxHLplhIoYM",
        "colab_type": "code",
        "colab": {}
      },
      "source": [
        "reg.score(x_test,y_test)"
      ],
      "execution_count": 0,
      "outputs": []
    },
    {
      "cell_type": "code",
      "metadata": {
        "id": "E9I0Y2q1It2v",
        "colab_type": "code",
        "colab": {}
      },
      "source": [
        "from sklearn import ensemble\n",
        "clf = ensemble.GradientBoostingRegressor(n_estimators = 400, max_depth = 5, min_samples_split = 2, learning_rate = 0.1, loss = 'ls')"
      ],
      "execution_count": 0,
      "outputs": []
    },
    {
      "cell_type": "code",
      "metadata": {
        "id": "ZYxiJRJQIzCr",
        "colab_type": "code",
        "colab": {}
      },
      "source": [
        "clf.fit(x_train, y_train)"
      ],
      "execution_count": 0,
      "outputs": []
    },
    {
      "cell_type": "code",
      "metadata": {
        "id": "SVJaIAEvI_-Y",
        "colab_type": "code",
        "colab": {}
      },
      "source": [
        "clf.score(x_test,y_test)"
      ],
      "execution_count": 0,
      "outputs": []
    },
    {
      "cell_type": "code",
      "metadata": {
        "id": "pACHfWIJJEHn",
        "colab_type": "code",
        "colab": {}
      },
      "source": [
        "original_params = {'n_estimators': 400, 'max_depth': 5,'min_samples_split': 2,'random_state': 2,'learning_rate': 0.1, 'loss':'ls'}\n",
        "params = dict(original_params)\n",
        "\n",
        "t_sc = np.zeros((params['n_estimators']),dtype=np.float64)"
      ],
      "execution_count": 0,
      "outputs": []
    },
    {
      "cell_type": "code",
      "metadata": {
        "id": "ByB5qvvfJUEf",
        "colab_type": "code",
        "colab": {}
      },
      "source": [
        "y_pred = reg.predict(x_test)"
      ],
      "execution_count": 0,
      "outputs": []
    },
    {
      "cell_type": "code",
      "metadata": {
        "id": "Dpn93FVzJXzh",
        "colab_type": "code",
        "colab": {}
      },
      "source": [
        "for i,y_pred in enumerate(clf.staged_predict(x_test)): t_sc[i]=clf.loss_(y_test,y_pred)"
      ],
      "execution_count": 0,
      "outputs": []
    },
    {
      "cell_type": "code",
      "metadata": {
        "id": "wCxV4GhTJi1b",
        "colab_type": "code",
        "colab": {}
      },
      "source": [
        "testsc = np.arange((params['n_estimators']))+1"
      ],
      "execution_count": 0,
      "outputs": []
    },
    {
      "cell_type": "code",
      "metadata": {
        "id": "E50E5nQ7JqY6",
        "colab_type": "code",
        "colab": {}
      },
      "source": [
        "plt.figure(figsize=(12, 6))\n",
        "plt.subplot(1, 2, 1)\n",
        "plt.plot(testsc,clf.train_score_,'b-',label= 'Set dev train')\n",
        "plt.plot(testsc,t_sc,'r-',label = 'set dev test')"
      ],
      "execution_count": 0,
      "outputs": []
    },
    {
      "cell_type": "code",
      "metadata": {
        "id": "X551-BRJMxJz",
        "colab_type": "code",
        "colab": {}
      },
      "source": [
        "from sklearn.preprocessing import scale\n",
        "from sklearn.decomposition import PCA"
      ],
      "execution_count": 0,
      "outputs": []
    },
    {
      "cell_type": "code",
      "metadata": {
        "id": "jOLuU8NBM2RL",
        "colab_type": "code",
        "colab": {}
      },
      "source": [
        "pca = PCA()"
      ],
      "execution_count": 0,
      "outputs": []
    },
    {
      "cell_type": "code",
      "metadata": {
        "id": "4bqmeY4QM4br",
        "colab_type": "code",
        "colab": {}
      },
      "source": [
        "pca.fit_transform(scale(train1))"
      ],
      "execution_count": 0,
      "outputs": []
    }
  ]
}